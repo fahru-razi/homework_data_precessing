{
 "cells": [
  {
   "cell_type": "markdown",
   "id": "f8b12927",
   "metadata": {},
   "source": [
    "Nama : Muhamad Fahrurrozi"
   ]
  },
  {
   "cell_type": "markdown",
   "id": "378bea5c",
   "metadata": {},
   "source": [
    "# Soal Beginner"
   ]
  },
  {
   "cell_type": "markdown",
   "id": "ea5fc9a5",
   "metadata": {},
   "source": [
    "## No.1"
   ]
  },
  {
   "cell_type": "markdown",
   "id": "440823e3",
   "metadata": {},
   "source": [
    "Buatlah python syntax untuk membuat data frame seperti berikut, dan simpan dengan nama “data”"
   ]
  },
  {
   "cell_type": "markdown",
   "id": "6961f8c0",
   "metadata": {},
   "source": [
    "![Deskripsi Gambar](Picture1.png)"
   ]
  },
  {
   "cell_type": "code",
   "execution_count": null,
   "id": "9162e282-329e-402f-a24e-10d81f008779",
   "metadata": {},
   "outputs": [],
   "source": [
    "data = pd.DataFrame({'no'             : [1,2,3,4,5],\n",
    "                'nama_siswa'       : ['Adi', 'Budi', 'Carli', 'Dadan', 'Endang'],\n",
    "                'umur'             : [15, 16, 14, None, 16],\n",
    "                'email'            : ['adi@gmail.com','budi@gmail.com', 'carlirakamin.com',\n",
    "                                        'dadan@rakamin.com', 'endang@gmail.com'],\n",
    "                'score_matematika' :[80, 90, 100, 95, 97],\n",
    "                'score_ekonomi'    :[90, 95, 100, 86, None],\n",
    "                'score_olahraga'   :[97, 95, 96, 100, 94]\n",
    "                })\n",
    "data.to_csv('data.csv', index=False)"
   ]
  },
  {
   "cell_type": "markdown",
   "id": "693e9bfa",
   "metadata": {},
   "source": [
    "## No.2 "
   ]
  },
  {
   "cell_type": "markdown",
   "id": "56d583e5",
   "metadata": {},
   "source": [
    "Dari output no.1 di atas, lakukan steps berikut secara berurutan\n",
    "\n",
    "- Urutkan data frame berdasarkan kolom score_matematika dari nilai terbesar hingga nilai terkecil.simpan hasilnya dengan nama “data_sorted” \n",
    "- Dari “data_sorted” tersebut, ambil baris pada siswa dengan score_matematika terkecil. simpan hasilnya dengan nama “data_lowest_score”\n",
    "\n",
    "Siapa nama siswa dengan score_matematika terkecil tersebut?"
   ]
  },
  {
   "cell_type": "code",
   "execution_count": 22,
   "id": "18cd3ef3",
   "metadata": {},
   "outputs": [
    {
     "name": "stdout",
     "output_type": "stream",
     "text": [
      "\n",
      "Data Sorted DataFrame:\n",
      "   no nama_siswa  umur              email  score_matematika  score_ekonomi  \\\n",
      "2   3      Carli  14.0   carlirakamin.com               100          100.0   \n",
      "4   5     Endang  16.0   endang@gmail.com                97            NaN   \n",
      "3   4      Dadan   NaN  dadan@rakamin.com                95           86.0   \n",
      "1   2       Budi  16.0     budi@gmail.com                90           95.0   \n",
      "0   1        Adi  15.0      adi@gmail.com                80           90.0   \n",
      "\n",
      "   score_olahraga  \n",
      "2              96  \n",
      "4              94  \n",
      "3             100  \n",
      "1              95  \n",
      "0              97  \n",
      "\n",
      "Data lowest Score DataFrame:\n",
      "   no nama_siswa  umur          email  score_matematika  score_ekonomi  \\\n",
      "0   1        Adi  15.0  adi@gmail.com                80           90.0   \n",
      "\n",
      "   score_olahraga  \n",
      "0              97  \n",
      "Nama siswa dengan score_matematika terkecil: Adi\n"
     ]
    }
   ],
   "source": [
    "import pandas as pd\n",
    "data = pd.read_csv('data.csv')\n",
    "\n",
    "data_sorted = data.sort_values(by='score_matematika', ascending=False)\n",
    "data_lowest_score = data_sorted.tail(1)\n",
    "\n",
    "print(\"\\nData Sorted DataFrame:\")\n",
    "print(data_sorted)\n",
    "print(\"\\nData lowest Score DataFrame:\")\n",
    "print(data_lowest_score)\n",
    "\n",
    "nama_siswa_terkecil = data_lowest_score['nama_siswa'].values[0]\n",
    "print(\"Nama siswa dengan score_matematika terkecil:\", nama_siswa_terkecil)"
   ]
  },
  {
   "cell_type": "markdown",
   "id": "6392ea4d",
   "metadata": {},
   "source": [
    "## No.3"
   ]
  },
  {
   "cell_type": "markdown",
   "id": "a741cbda",
   "metadata": {},
   "source": [
    "Dari output no.1 di atas, lakukan steps berikut secara berurutan\n",
    "\n",
    "- Filter siswa yang memiliki email ber-domain gmail DAN memiliki score_ekomomi tidak null simpan hasilnya dengan nama “data_siswa_gmail”\n",
    "- Berapa umur rata-rata dari siswa di “data_siswa_gmail”  tersebut?"
   ]
  },
  {
   "cell_type": "code",
   "execution_count": 24,
   "id": "c4abae92",
   "metadata": {},
   "outputs": [
    {
     "name": "stdout",
     "output_type": "stream",
     "text": [
      "Umur rata-rata dari siswa di 'data_siswa_gmail': 15.5\n"
     ]
    }
   ],
   "source": [
    "import pandas as pd\n",
    "data = pd.read_csv('data.csv')\n",
    "\n",
    "data_siswa_gmail = data[(data['email'].str.contains('@gmail.com')) & (data['score_ekonomi'].notnull())]\n",
    "rata_rata_umur = data_siswa_gmail['umur'].mean()\n",
    "\n",
    "print(\"Umur rata-rata dari siswa di 'data_siswa_gmail':\", rata_rata_umur)"
   ]
  },
  {
   "cell_type": "markdown",
   "id": "81f5232d",
   "metadata": {},
   "source": [
    "## No.4"
   ]
  },
  {
   "cell_type": "markdown",
   "id": "e4eb94be",
   "metadata": {},
   "source": [
    "Buatlah data frame berikut, dan simpan dengan nama “additional_data”"
   ]
  },
  {
   "cell_type": "markdown",
   "id": "cc9a96a0",
   "metadata": {},
   "source": [
    "![Deskripsi Gambar](Picture2.png)"
   ]
  },
  {
   "cell_type": "markdown",
   "id": "4a64ad7d",
   "metadata": {},
   "source": [
    "Kemudian append “additional_data” tersebut dengan data frame “data” pada no.1 di atas. simpan dengan nama “new_data”.\n",
    "berapa median umur mereka sekarang? (setelah append dilakukan)"
   ]
  },
  {
   "cell_type": "code",
   "execution_count": 34,
   "id": "49f86ba8",
   "metadata": {},
   "outputs": [
    {
     "name": "stdout",
     "output_type": "stream",
     "text": [
      "umur rata-rata: 15.333333333333334\n"
     ]
    }
   ],
   "source": [
    "additional_data = pd.DataFrame({'no'               : [6,7],\n",
    "                                'nama_siswa'       : ['Fauzan','Guntur'],\n",
    "                                'umur'             : [15, 16],\n",
    "                                'email'            : ['fauzan@gmail.com', 'guntur@gmail.com'],\n",
    "                                'score_matematika' : [80, 90],\n",
    "                                'score_ekonomi'    : [90, 95],\n",
    "                                'score_olahraga'   : [97, 95]\n",
    "                            })\n",
    "\n",
    "additional_data.to_csv('additional_data.csv', index=False)\n",
    "new_data = pd.concat([data, additional_data],ignore_index=True)\n",
    "new_data.to_csv('new_data.scv',index=False)\n",
    "\n",
    "median_umur = new_data['umur'].mean()\n",
    "print(\"umur rata-rata:\", median_umur)"
   ]
  },
  {
   "cell_type": "markdown",
   "id": "14508ae8",
   "metadata": {},
   "source": [
    "## No.5"
   ]
  },
  {
   "cell_type": "markdown",
   "id": "2f643664",
   "metadata": {},
   "source": [
    "Buatlah data frame berikut, dan simpan dengan nama “data_address” "
   ]
  },
  {
   "cell_type": "markdown",
   "id": "c8a69961",
   "metadata": {},
   "source": [
    "![Deskripsi Gambar](Picture3.png)"
   ]
  },
  {
   "cell_type": "markdown",
   "id": "95e74608",
   "metadata": {},
   "source": [
    "Kerjakan step ini secara berurutan:\n",
    "\n",
    "- Lakukanlah merge data frame “new_data” pada no.4 di atas dengan “data_address”\n",
    "- Bandingkan umur rata-rata siswa per alamat mereka berasal\n",
    "\n",
    "Pada alamat yang mana, umur rata-rata mereka yang paling kecil?"
   ]
  },
  {
   "cell_type": "code",
   "execution_count": 36,
   "id": "9ad9f02a",
   "metadata": {},
   "outputs": [
    {
     "name": "stdout",
     "output_type": "stream",
     "text": [
      "umur rata-rata siswa per alamat:\n",
      "        alamat  umur\n",
      "0       Banten  14.0\n",
      "1  DKI Jakarta  15.5\n",
      "2   Jawa Barat  16.0\n",
      "\n",
      "Alamat dengan umur rata rata siswa terkecil:\n",
      "   alamat  umur\n",
      "0  Banten  14.0\n"
     ]
    }
   ],
   "source": [
    "data_address = pd.DataFrame({'nama_siswa' :['Adi', 'Budi', 'Carli', 'Dadan', 'Endang', 'Halim'],\n",
    "                            'alamat'     :['DKI Jakarta', 'DKI Jakarta', 'Banten', 'Banten', 'Jawa Barat', 'Aceh']\n",
    "                            })\n",
    "merge_data = new_data.merge(data_address,\n",
    "                            left_on='nama_siswa',\n",
    "                            right_on='nama_siswa',\n",
    "                            how='left'\n",
    "                        )\n",
    "avg_umur = merge_data.groupby('alamat').agg({'umur' : 'mean'}).reset_index()\n",
    "alamat_siswa_terkecil = avg_umur[avg_umur['umur']==avg_umur['umur'].min()]\n",
    "\n",
    "print(\"umur rata-rata siswa per alamat:\")\n",
    "print(avg_umur)\n",
    "\n",
    "print(\"\\nAlamat dengan umur rata rata siswa terkecil:\")\n",
    "print(alamat_siswa_terkecil)"
   ]
  },
  {
   "cell_type": "markdown",
   "id": "fce11967",
   "metadata": {},
   "source": [
    "# Soal Intermediate"
   ]
  },
  {
   "cell_type": "markdown",
   "id": "b2a929ae",
   "metadata": {},
   "source": [
    "## No.6"
   ]
  },
  {
   "cell_type": "markdown",
   "id": "e4ba0d0e",
   "metadata": {},
   "source": [
    "Import ke-3 file Excel yang telah disediakan di sini. Simpan data frame dengan nama airlines, airports dan flights\n",
    "Case:\n",
    "\n",
    "Department of Transportation sedang melakukan audit data sepanjang tahun 2015, mereka membutuhkan data-data berikut:\n",
    "- Total penerbangan per bulan selama 2015 (3 point)\n",
    "- Total penerbangan yang CANCELLED per bulan (3 point)\n",
    "- Rata-rata, Minimum dan Maksimum ELAPSED_TIME per bulan"
   ]
  },
  {
   "cell_type": "code",
   "execution_count": 37,
   "id": "a30f7fb7",
   "metadata": {},
   "outputs": [
    {
     "name": "stdout",
     "output_type": "stream",
     "text": [
      "Total penerbangan per bulan:\n",
      "MONTH\n",
      "1     798\n",
      "2     715\n",
      "3     877\n",
      "4     824\n",
      "5     840\n",
      "6     839\n",
      "7     937\n",
      "8     887\n",
      "9     787\n",
      "10    856\n",
      "11    822\n",
      "12    818\n",
      "dtype: int64\n",
      "\n",
      "Total penerbangan yang dibatalkan per bulan:\n",
      "MONTH\n",
      "1     20\n",
      "2     30\n",
      "3     22\n",
      "4      9\n",
      "5      5\n",
      "6     18\n",
      "7     14\n",
      "8      8\n",
      "9      1\n",
      "10     2\n",
      "11     8\n",
      "12    17\n",
      "dtype: int64\n",
      "\n",
      "Statistik waktu berlalu per bulan:\n",
      "             mean   min    max\n",
      "MONTH                         \n",
      "1      132.153548  31.0  428.0\n",
      "2      140.375731  24.0  408.0\n",
      "3      142.357562  30.0  622.0\n",
      "4      138.420859  31.0  570.0\n",
      "5      136.516827  34.0  466.0\n",
      "6      139.057317  32.0  398.0\n",
      "7      141.110990  30.0  511.0\n",
      "8      142.948689  27.0  655.0\n",
      "9      137.667516  34.0  495.0\n",
      "10     134.366940  31.0  388.0\n",
      "11     139.198032  32.0  392.0\n",
      "12     144.340426  33.0  453.0\n"
     ]
    }
   ],
   "source": [
    "import pandas as pd\n",
    "\n",
    "df = pd.read_excel('1data_flights.xlsx')\n",
    "df = df[df['YEAR'] == 2015]\n",
    "\n",
    "total_flights = df.groupby('MONTH').size()\n",
    "total_cancelled = df[df['CANCELLED'] == 1].groupby('MONTH').size()\n",
    "elapsed_time_stats = df.groupby('MONTH')['ELAPSED_TIME'].agg(['mean', 'min', 'max'])\n",
    "\n",
    "print(\"Total penerbangan per bulan:\")\n",
    "print(total_flights)\n",
    "print(\"\\nTotal penerbangan yang dibatalkan per bulan:\")\n",
    "print(total_cancelled)\n",
    "print(\"\\nStatistik waktu berlalu per bulan:\")\n",
    "print(elapsed_time_stats)"
   ]
  },
  {
   "cell_type": "markdown",
   "id": "8b28e07e",
   "metadata": {},
   "source": [
    "## No.7"
   ]
  },
  {
   "cell_type": "markdown",
   "id": "86add0c5",
   "metadata": {},
   "source": [
    "Case:\n",
    "Department of Transportation sedang melakukan analisis data\tuntuk seluruh penerbangan dari airport: john f. kennedy dan northwest florida.\n",
    "\n",
    "Mereka ingin mengetahui total penerbangan per masing-masing\tdestinasi airports dan rata-rata distance dari kedua airports tersebut ke setiap destinasi yang ada.\n",
    "\n",
    "question:\tDestinasi airport** mana yang paling banyak jumlah\tpenerbangannya?\t**sebutkan dalam bentuk nama airport (bukan code airport)"
   ]
  },
  {
   "cell_type": "code",
   "execution_count": 16,
   "id": "a0a0fcd3",
   "metadata": {},
   "outputs": [
    {
     "name": "stdout",
     "output_type": "stream",
     "text": [
      "Statistik Bandara JFK dan ECP\n",
      "                             DESTINATION_AIRPORT_NAME ORIGIN_AIRPORT  \\\n",
      "0              Austin-Bergstrom International Airport            JFK   \n",
      "1               Buffalo Niagara International Airport            JFK   \n",
      "2                    Burlington International Airport            JFK   \n",
      "3     Charleston International Airport/Charleston AFB            JFK   \n",
      "4             Charlotte Douglas International Airport            JFK   \n",
      "5                Chicago O'Hare International Airport            JFK   \n",
      "6             Cleveland Hopkins International Airport            JFK   \n",
      "7                               Cyril E. King Airport            JFK   \n",
      "8                                   Dallas Love Field            ECP   \n",
      "9                        Denver International Airport            JFK   \n",
      "10    Fort Lauderdale-Hollywood International Airport            JFK   \n",
      "11   Gen. Edward Lawrence Logan International Airport            JFK   \n",
      "12               George Bush Intercontinental Airport            ECP   \n",
      "13            Greater Rochester International Airport            JFK   \n",
      "14   Hartsfield-Jackson Atlanta International Airport            ECP   \n",
      "15   Hartsfield-Jackson Atlanta International Airport            JFK   \n",
      "16                     Honolulu International Airport            JFK   \n",
      "17                 Indianapolis International Airport            JFK   \n",
      "18                 Jacksonville International Airport            JFK   \n",
      "19               Long Beach Airport (Daugherty Field)            JFK   \n",
      "20                  Los Angeles International Airport            JFK   \n",
      "21  Louis Armstrong New Orleans International Airport            JFK   \n",
      "22             Luis Muñoz Marín International Airport            JFK   \n",
      "23                     McCarran International Airport            JFK   \n",
      "24                                  Mercedita Airport            JFK   \n",
      "25                        Miami International Airport            JFK   \n",
      "26                    Nashville International Airport            ECP   \n",
      "27                    Nashville International Airport            JFK   \n",
      "28                      Oakland International Airport            JFK   \n",
      "29                      Orlando International Airport            JFK   \n",
      "30                   Palm Beach International Airport            JFK   \n",
      "31           Phoenix Sky Harbor International Airport            JFK   \n",
      "32                Port Columbus International Airport            JFK   \n",
      "33                     Portland International Airport            JFK   \n",
      "34                           Rafael Hernández Airport            JFK   \n",
      "35               Raleigh-Durham International Airport            JFK   \n",
      "36          Ronald Reagan Washington National Airport            JFK   \n",
      "37               Salt Lake City International Airport            JFK   \n",
      "38                  San Antonio International Airport            JFK   \n",
      "39  San Diego International Airport (Lindbergh Field)            JFK   \n",
      "40                San Francisco International Airport            JFK   \n",
      "41               Seattle-Tacoma International Airport            JFK   \n",
      "42            Southwest Florida International Airport            JFK   \n",
      "43                        Tampa International Airport            JFK   \n",
      "44            Washington Dulles International Airport            JFK   \n",
      "45                           William P. Hobby Airport            ECP   \n",
      "\n",
      "    Total_Flights  Average_Distance  \n",
      "0               3            1521.0  \n",
      "1               3             301.0  \n",
      "2               2             266.0  \n",
      "3               5             636.0  \n",
      "4               8             541.0  \n",
      "5               2             740.0  \n",
      "6               3             425.0  \n",
      "7               2            1623.0  \n",
      "8               2             674.0  \n",
      "9               2            1626.0  \n",
      "10              6            1069.0  \n",
      "11             15             187.0  \n",
      "12              1             572.0  \n",
      "13              1             264.0  \n",
      "14              3             240.0  \n",
      "15              3             760.0  \n",
      "16              1            4983.0  \n",
      "17              1             665.0  \n",
      "18              3             828.0  \n",
      "19              1            2465.0  \n",
      "20             21            2475.0  \n",
      "21              1            1182.0  \n",
      "22              4            1598.0  \n",
      "23              7            2248.0  \n",
      "24              1            1617.0  \n",
      "25              8            1089.0  \n",
      "26              1             401.0  \n",
      "27              1             765.0  \n",
      "28              1            2576.0  \n",
      "29              9             944.0  \n",
      "30              6            1028.0  \n",
      "31              3            2153.0  \n",
      "32              1             483.0  \n",
      "33              1            2454.0  \n",
      "34              2            1576.0  \n",
      "35              2             427.0  \n",
      "36              2             213.0  \n",
      "37              2            1990.0  \n",
      "38              1            1587.0  \n",
      "39              2            2446.0  \n",
      "40             23            2586.0  \n",
      "41              3            2422.0  \n",
      "42              3            1074.0  \n",
      "43              7            1005.0  \n",
      "44              1             228.0  \n",
      "45              1             571.0  \n",
      "\n",
      "Destinasi bandara terbanyak adalah: 40    San Francisco International Airport\n",
      "Name: DESTINATION_AIRPORT_NAME, dtype: object\n"
     ]
    }
   ],
   "source": [
    "import pandas as pd\n",
    "\n",
    "airports = pd.read_excel('data_airports.xlsx')\n",
    "flights = pd.read_excel('data_flights.xlsx')\n",
    "\n",
    "selected_flights = flights[['ORIGIN_AIRPORT', 'DESTINATION_AIRPORT', 'DISTANCE']]\n",
    "selected_airports = airports[['IATA_CODE', 'AIRPORT']]\n",
    "\n",
    "flights = selected_flights.merge(selected_airports, left_on='DESTINATION_AIRPORT', right_on='IATA_CODE', how='inner')\n",
    "flights = flights.drop(columns=['IATA_CODE'])\n",
    "flights.rename(columns={'AIRPORT': 'DESTINATION_AIRPORT_NAME'}, inplace=True)\n",
    "\n",
    "jfk_flights = flights[flights['ORIGIN_AIRPORT'].isin(['JFK', 'ECP'])]\n",
    "jfk_stats = jfk_flights.groupby(['DESTINATION_AIRPORT_NAME','ORIGIN_AIRPORT']).agg(\n",
    "    Total_Flights=('DISTANCE', 'count'),\n",
    "    Average_Distance=('DISTANCE', 'mean')\n",
    ").reset_index()\n",
    "\n",
    "print(\"Statistik Bandara JFK dan ECP\")\n",
    "print(jfk_stats)\n",
    "\n",
    "most_flights_airport = jfk_stats[jfk_stats['Total_Flights'] == jfk_stats['Total_Flights'].max()]['DESTINATION_AIRPORT_NAME']\n",
    "print(\"\\nDestinasi bandara terbanyak adalah:\", most_flights_airport)"
   ]
  },
  {
   "cell_type": "markdown",
   "id": "a80f0713",
   "metadata": {},
   "source": [
    "# Soal Advanced"
   ]
  },
  {
   "cell_type": "markdown",
   "id": "b5937f28",
   "metadata": {},
   "source": [
    "## No.8"
   ]
  },
  {
   "cell_type": "markdown",
   "id": "441d2449",
   "metadata": {},
   "source": [
    "Buatlah 2 dataframe mengikuti petunjuk berikut:\n",
    "\n",
    "df_1 :  Filter dataset 01 telecom_revenue.csv dengan multiple kondisi\n",
    "- MonthlyRevenue > 10\n",
    "- Occupation terdiri dari Professional, Student, and Crafts\n",
    "\n",
    "df_2 :  Filter dataset 02 telecom_usage.csv dengan multiple kondisi\n",
    "- CustomerCareCalls diawali digit genap (2, 4, 6 atau 8)\n",
    "- nilai UnansweredCalls > .BlockedCalls\n",
    "\n",
    "Hitunglah total CustomerID dan rata-rata DroppedCalls untuk masing-masing occupation.\n",
    "pada occupation apa, rata-rata DroppedCalls paling besar? "
   ]
  },
  {
   "cell_type": "code",
   "execution_count": 38,
   "id": "710a40e1",
   "metadata": {},
   "outputs": [
    {
     "name": "stdout",
     "output_type": "stream",
     "text": [
      "              CustomerID  DroppedCalls\n",
      "Occupation                            \n",
      "Crafts                 4     10.600000\n",
      "Professional          15      4.786667\n",
      "Occupation dengan rata-rata DroppedCalls tertinggi adalah Crafts\n"
     ]
    }
   ],
   "source": [
    "import pandas as pd\n",
    "\n",
    "df_revenue = pd.read_csv('01 telecom_revenue.csv')\n",
    "df_usage = pd.read_csv('02 telecom_usage.csv')\n",
    "\n",
    "df_1 = df_revenue[(df_revenue['MonthlyRevenue'] > 10) & (df_revenue['Occupation'].isin(['Professional', 'Student', 'Crafts']))]\n",
    "df_2 = df_usage[(df_usage['CustomerCareCalls'].astype(str).str[0].isin(['2', '4', '6', '8'])) & (df_usage['UnansweredCalls'] > df_usage['BlockedCalls'])]\n",
    "\n",
    "df = pd.merge(df_1, df_2, on='CustomerID')\n",
    "total = df.groupby('Occupation').agg({'CustomerID': 'count', 'DroppedCalls': 'mean'})\n",
    "max_dropped_calls = result['DroppedCalls'].idxmax()\n",
    "\n",
    "print(total)\n",
    "print(\"Occupation dengan rata-rata DroppedCalls tertinggi adalah\", max_dropped_calls)"
   ]
  }
 ],
 "metadata": {
  "kernelspec": {
   "display_name": "Python 3 (ipykernel)",
   "language": "python",
   "name": "python3"
  },
  "language_info": {
   "codemirror_mode": {
    "name": "ipython",
    "version": 3
   },
   "file_extension": ".py",
   "mimetype": "text/x-python",
   "name": "python",
   "nbconvert_exporter": "python",
   "pygments_lexer": "ipython3",
   "version": "3.11.4"
  },
  "toc": {
   "base_numbering": 1,
   "nav_menu": {},
   "number_sections": false,
   "sideBar": true,
   "skip_h1_title": false,
   "title_cell": "Table of Contents",
   "title_sidebar": "Contents",
   "toc_cell": false,
   "toc_position": {},
   "toc_section_display": true,
   "toc_window_display": true
  }
 },
 "nbformat": 4,
 "nbformat_minor": 5
}
